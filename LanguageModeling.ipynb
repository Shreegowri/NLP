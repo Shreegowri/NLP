{
  "nbformat": 4,
  "nbformat_minor": 0,
  "metadata": {
    "colab": {
      "name": "LanguageModeling.ipynb",
      "provenance": [],
      "collapsed_sections": []
    },
    "kernelspec": {
      "name": "python3",
      "display_name": "Python 3"
    },
    "accelerator": "GPU"
  },
  "cells": [
    {
      "cell_type": "markdown",
      "metadata": {
        "id": "moWB9udaKesP",
        "colab_type": "text"
      },
      "source": [
        "Your task is to train *character-level* language models. \n",
        "You will train unigram, bigram, and trigram character level models on a collection of books from Project Gutenberg. You will then use these trained English language models to distinguish English documents from Brazilian Portuguese documents in the test set."
      ]
    },
    {
      "cell_type": "code",
      "metadata": {
        "id": "gHFJmuftHJld",
        "colab_type": "code",
        "colab": {}
      },
      "source": [
        "import pandas as pd\n",
        "import httpimport\n",
        "\n",
        "with httpimport.remote_repo(['lm_helper'], 'https://raw.githubusercontent.com/jasoriya/CS6120-PS2-support/master/utils/'):\n",
        "  from lm_helper import get_train_data, get_test_data"
      ],
      "execution_count": 0,
      "outputs": []
    },
    {
      "cell_type": "markdown",
      "metadata": {
        "id": "8U0UCuyHQkai",
        "colab_type": "text"
      },
      "source": [
        "This code loads the training and test data. Each dataset is a list of books. Each book contains a list of sentences, and each sentence contains a list of words. For building a character language model, you should join the words of a sentence together with a space character."
      ]
    },
    {
      "cell_type": "code",
      "metadata": {
        "id": "6x0pfuiEChTh",
        "colab_type": "code",
        "colab": {}
      },
      "source": [
        "# get the train and test data\n",
        "train = get_train_data()\n",
        "test, test_files = get_test_data()\n",
        "#test2, test_files = get_test_data()"
      ],
      "execution_count": 0,
      "outputs": []
    },
    {
      "cell_type": "code",
      "metadata": {
        "id": "HRbCYB2wPNt_",
        "colab_type": "code",
        "outputId": "81f17ef5-092a-4d61-aabb-52b945108399",
        "colab": {
          "base_uri": "https://localhost:8080/",
          "height": 52
        }
      },
      "source": [
        "print(len(train))\n",
        "print(len(test))"
      ],
      "execution_count": 0,
      "outputs": [
        {
          "output_type": "stream",
          "text": [
            "18\n",
            "220\n"
          ],
          "name": "stdout"
        }
      ]
    },
    {
      "cell_type": "markdown",
      "metadata": {
        "id": "_WAO9VjFLArq",
        "colab_type": "text"
      },
      "source": [
        "## 1.1\n",
        "Collect statistics on the unigram, bigram, and trigram character counts.\n",
        "\n",
        "If your machine takes a long time to perform this computation, you may save these counts to files in your github repository and load them on request. This is not necessary, however."
      ]
    },
    {
      "cell_type": "code",
      "metadata": {
        "id": "s2KmN-T4ShJP",
        "colab_type": "code",
        "colab": {}
      },
      "source": [
        "from sklearn.model_selection import train_test_split\n",
        "import string\n",
        "import re\n",
        "import nltk\n",
        "from nltk.collections import Counter\n",
        "from nltk import bigrams, trigrams\n",
        "import csv\n",
        "import math"
      ],
      "execution_count": 0,
      "outputs": []
    },
    {
      "cell_type": "code",
      "metadata": {
        "id": "Oh4VOoiSIoUF",
        "colab_type": "code",
        "outputId": "52faeb97-86ef-429f-983e-909775e4bd83",
        "colab": {
          "base_uri": "https://localhost:8080/",
          "height": 52
        }
      },
      "source": [
        "#convert list of list per book into list per book in training set\n",
        "\n",
        "## Join the words in train set by space except for punctuations and single letters (except article a/A) as they are immediately followed by letter. ##\n",
        "#Example: ['can', \"'\", 't'] ==> can't and ['a', 'world', '!'] ==> a world!\n",
        "\n",
        "train_new = []\n",
        "for book in train:\n",
        "  tmp = []\n",
        "  for sentence in book: #start of sentence adding space as indicator\n",
        "    for word in sentence:\n",
        "        if word == 'a' or word == 'A': # single 'a' as elemnt means it is article, so space is included\n",
        "          tmp.extend([' ',word.lower()]) #simultanously converting to lower case words\n",
        "        elif word in string.punctuation:\n",
        "          tmp.extend(word)\n",
        "        elif re.match('\\b[a-zA-Z0-9]\\b', word):\n",
        "          tmp.extend(word.lower())\n",
        "        else:\n",
        "          tmp.extend([' ',word.lower()])\n",
        "     \n",
        "    #end of sentence respective punctuations serves as end of sentence indicator\n",
        "  train_new.append(tmp)\n",
        "\n",
        "X_train, X_val = train_test_split(train_new, train_size = 0.8, test_size = 0.2, random_state = 123)\n",
        "print(len(X_train))\n",
        "print(len(X_val))"
      ],
      "execution_count": 0,
      "outputs": [
        {
          "output_type": "stream",
          "text": [
            "14\n",
            "4\n"
          ],
          "name": "stdout"
        }
      ]
    },
    {
      "cell_type": "code",
      "metadata": {
        "id": "hE1kpSD6TXEc",
        "colab_type": "code",
        "outputId": "fa2e6cde-b869-4b25-970a-0df57fc11e40",
        "colab": {
          "base_uri": "https://localhost:8080/",
          "height": 52
        }
      },
      "source": [
        "# Join the list elements to string and then split into list of characters to count unigram, bigram and trigram #\n",
        "\n",
        "X_train_new = []\n",
        "for book in X_train:\n",
        "  tmp = ''.join(book)\n",
        "  X_train_new.extend([tmp]) #list of books (where books are list of words)\n",
        "\n",
        "X_train_new = ' '.join(X_train_new) #join each book into single list\n",
        "X_train_new = list(X_train_new) #split by character\n",
        "print(len(X_train_new))\n",
        "\n",
        "X_val_new = []\n",
        "for book in X_val:\n",
        "  tmp = ''.join(book)\n",
        "  X_val_new.extend([tmp]) #list of books (where books are list of words)\n",
        "\n",
        "X_val_new = ' '.join(X_val_new) #join each book into single list\n",
        "X_val_new = list(X_val_new) #split by character\n",
        "len(X_val_new)"
      ],
      "execution_count": 0,
      "outputs": [
        {
          "output_type": "stream",
          "text": [
            "10195559\n"
          ],
          "name": "stdout"
        },
        {
          "output_type": "execute_result",
          "data": {
            "text/plain": [
              "1516574"
            ]
          },
          "metadata": {
            "tags": []
          },
          "execution_count": 6
        }
      ]
    },
    {
      "cell_type": "code",
      "metadata": {
        "id": "1FiHleVSpfyb",
        "colab_type": "code",
        "colab": {}
      },
      "source": [
        "## Get the count statistics fro unigrams, bigrams and trigrams ##\n",
        "\n",
        "unigrams_c = Counter(X_train_new)\n",
        "for uni, count in unigrams_c.items():\n",
        "  if count <= 60:\n",
        "    X_train_new[:] = ['UNK' if ch == uni else ch for ch in X_train_new] #replace the chracter with less than 60 occurances ('&': 60, '$': 11, '\\x1a': 2, '=': 1, '>': 1)as UNK in original data\n",
        "#then get the count again Or we can directly update in count dictionary but update in list of characters will yield to \n",
        "#the next bigram and trigrams count calculation\n",
        "\n",
        "unigrams_c = Counter(X_train_new) #run again to consider 'UNK'\n",
        "bigrams_gen = bigrams(X_train_new)  #using builtin nltk function for the updated list\n",
        "trigrams_gen = trigrams(X_train_new)\n",
        "bigrams_c = Counter(bigrams_gen)\n",
        "trigrams_c = Counter(trigrams_gen)\n",
        "\n",
        "\n",
        "unigrams_len = len(unigrams_c)\n",
        "unigrams_tot = sum(unigrams_c.values())\n",
        "\n",
        "#Respective probabilities using MLE for linear interpolation\n",
        "\n",
        "unigram_prob_i = {uni:count/unigrams_tot for uni, count in unigrams_c.items()} #natural log\n",
        "bigram_prob_i = {big:count/unigrams_c[big[0]] for big, count in bigrams_c.items()}\n",
        "trigram_prob_i = {tri:count/bigrams_c[tri[:2]] for tri, count in trigrams_c.items()}"
      ],
      "execution_count": 0,
      "outputs": []
    },
    {
      "cell_type": "code",
      "metadata": {
        "id": "Nu0J4FBpaZW3",
        "colab_type": "code",
        "colab": {}
      },
      "source": [
        "#Output is lengthy hence storing in csv file attached in github\n",
        "\n",
        "#print(\"Unigrams Count: \", unigrams_c)\n",
        "#print(\"Bigrams Count: \", bigrams_c)\n",
        "#print(\"Trigrams Count: \", trigrams_c)\n"
      ],
      "execution_count": 0,
      "outputs": []
    },
    {
      "cell_type": "markdown",
      "metadata": {
        "id": "RS3mnaIvQnhI",
        "colab_type": "text"
      },
      "source": [
        "## 1.2\n",
        "Calculate the perplexity for each document in the test set using linear interpolation smoothing method. For determining λs for linear interpolation, you can divide the training data into a new training set (80%) and a held-out set (20%), then using grid search method:\n",
        "Choose ~10 values of λ to test using grid search on held-out data.\n",
        "\n",
        "Some documents in the test set are in Brazilian Portuguese. Identify them as follows: \n",
        "  - Sort by perplexity and set a cut-off threshold. All the documents above this threshold score should be categorized as Brazilian Portuguese. \n",
        "  - Print the file names (from `test_files`) and perplexities of the documents above the threshold\n",
        "\n",
        "    ```\n",
        "        file name, score\n",
        "        file name, score\n",
        "        . . .\n",
        "        file name, score\n",
        "    ```\n",
        "\n",
        "  - Copy this list of filenames and manually annotate them as being correctly or incorrectly labeled as Portuguese.\n",
        "\n",
        "\n"
      ]
    },
    {
      "cell_type": "code",
      "metadata": {
        "id": "QQF4HhQGOZD8",
        "colab_type": "code",
        "colab": {}
      },
      "source": [
        "#from sklearn.model_selection import ParameterGrid\n",
        "#param_grid = {'ld1':[0.3,0.35,0.2,0.25,0.1,0.15,0.05,0.33,0.2,0.1], 'ld2':[0.3,0.35,0.2,0.25,0.1,0.15,0.05,0.33,0.6,0.8], 'ld3':[0.4,0.3,0.6,0.5,0.8,0.7,0.9,0.34,0.2,0.1]}\n",
        "grid = [[0.3,0.3,0.4], [0.35, 0.35, 0.3], [0.2,0.2,0.6], [0.25,0.25,0.5],[0.1,0.1,0.8],[0.125,0.125,0.75], [0.15,0.15,0.7], [0.075,0.075,0.85], [0.05,0.05,0.9], [0.33,0.33,0.34], [0.2,0.6,0.2],[0.1,0.8,0.1]]\n",
        "#for lds,vals in param_grid.items():\n",
        "\n",
        "X_val_new = ['UNK' if ch not in unigrams_c.keys() else ch for ch in X_val_new]\n",
        "#unigrams_gen_val = X_val_new \n",
        "#bigrams_gen_val = bigrams(X_val_new)  \n",
        "#trigrams_gen_val = trigrams(X_val_new)"
      ],
      "execution_count": 0,
      "outputs": []
    },
    {
      "cell_type": "code",
      "metadata": {
        "id": "iOlXq5gWdl0u",
        "colab_type": "code",
        "colab": {}
      },
      "source": [
        "perplexity = []\n",
        "for j, lds in enumerate(grid):\n",
        "  tmp = []\n",
        "  trigrams_gen_val = trigrams(X_val_new)\n",
        "  for i, tri in enumerate(trigrams_gen_val): #for each trigram in hold-out data\n",
        "    prob = (lds[0]*unigram_prob_i.get(tri[0],0)) + (lds[1]*bigram_prob_i.get(tri[:2],0)) + (lds[2]*trigram_prob_i.get(tri,0))\n",
        "    tmp.append(math.log(prob)) #each character/trigram log probability\n",
        "    #print(j,i) #\"Lambdas and trigrams #: \"\n",
        "  perplexity.append(math.exp(-(sum(tmp)/len(tmp)))) #save perplexity for each grid of lambda\n",
        "  #print(j)"
      ],
      "execution_count": 0,
      "outputs": []
    },
    {
      "cell_type": "code",
      "metadata": {
        "id": "5mO2SghA6Ey7",
        "colab_type": "code",
        "outputId": "282e9eb8-8fff-478e-8547-607ffccf2b00",
        "colab": {
          "base_uri": "https://localhost:8080/",
          "height": 72
        }
      },
      "source": [
        "print(perplexity)\n",
        "grid[perplexity.index(min(perplexity))]"
      ],
      "execution_count": 0,
      "outputs": [
        {
          "output_type": "stream",
          "text": [
            "[6.833403513292825, 7.195358730850224, 6.453139793039058, 6.594688949043672, 6.452712767743245, 6.412696024280412, 6.401800480908608, 6.529355800890763, 6.657355446773375, 7.033037527250558, 7.278016786676057, 8.029060076846763]\n"
          ],
          "name": "stdout"
        },
        {
          "output_type": "execute_result",
          "data": {
            "text/plain": [
              "[0.15, 0.15, 0.7]"
            ]
          },
          "metadata": {
            "tags": []
          },
          "execution_count": 10
        }
      ]
    },
    {
      "cell_type": "markdown",
      "metadata": {
        "id": "oL9bT0522p9X",
        "colab_type": "text"
      },
      "source": [
        "***Hence lambda 1 = 0.15, lambda 2 = 0.15 and lambda 3 = 0.7*** \n",
        "Will be used for interpolation."
      ]
    },
    {
      "cell_type": "code",
      "metadata": {
        "id": "BN9oCgiJ2363",
        "colab_type": "code",
        "colab": {}
      },
      "source": [
        "test_new = []\n",
        "for book in test:\n",
        "  tmp = []\n",
        "  for sentence in book: #start of sentence adding space as indicator\n",
        "    for word in sentence:\n",
        "        if word == 'a' or word == 'A': # single 'a' as elemnt means it is article, so space is included\n",
        "          tmp.extend([' ',word.lower()]) #simultanously converting to lower case words\n",
        "        elif word in string.punctuation:\n",
        "          tmp.extend(word)\n",
        "        elif re.match('\\b[a-zA-Z0-9]\\b', word):\n",
        "          tmp.extend(word.lower())\n",
        "        else:\n",
        "          tmp.extend([' ',word.lower()])\n",
        "     \n",
        "    #end of sentence respective punctuations serves as end of sentence indicator\n",
        "  test_new.append(tmp)\n"
      ],
      "execution_count": 0,
      "outputs": []
    },
    {
      "cell_type": "code",
      "metadata": {
        "id": "vzYWn_VD_jns",
        "colab_type": "code",
        "colab": {}
      },
      "source": [
        "test = []\n",
        "for book in test_new:\n",
        "  tmp = ''.join(book)\n",
        "  test.append(list(tmp)) #list of characters in each test documents\n",
        "\n",
        "for i in range(len(test)):\n",
        "  test[i] = ['UNK' if ch not in unigrams_c.keys() else ch for ch in test[i]]\n",
        "\n",
        "test_per_1 = []\n",
        "for j, book in enumerate(test):\n",
        "  trigrams_gen_test = trigrams(book)\n",
        "  tmp = []\n",
        "  for i, tri in enumerate(trigrams_gen_test): \n",
        "    prob = (0.15*unigram_prob_i.get(tri[0],0)) + (0.15*bigram_prob_i.get(tri[:2],0)) + (0.7*trigram_prob_i.get(tri,0))\n",
        "    tmp.append(math.log(prob)) \n",
        "    #print(j,i)\n",
        "  test_per_1.append(math.exp(-(sum(tmp)/len(tmp)))) #each test documents perplexicity\n",
        "  #print(j)"
      ],
      "execution_count": 0,
      "outputs": []
    },
    {
      "cell_type": "code",
      "metadata": {
        "id": "F0ZtOz_pN6h6",
        "colab_type": "code",
        "outputId": "66f0dcf9-ce38-45a7-aacd-4e9d00ae9c4f",
        "colab": {
          "base_uri": "https://localhost:8080/",
          "height": 265
        }
      },
      "source": [
        "import matplotlib.pyplot as plt\n",
        "plt.plot(test_per_1)\n",
        "plt.show()"
      ],
      "execution_count": 0,
      "outputs": [
        {
          "output_type": "display_data",
          "data": {
            "image/png": "[encoded data removed]",
            "text/plain": [
              "<Figure size 432x288 with 1 Axes>"
            ]
          },
          "metadata": {
            "tags": []
          }
        }
      ]
    },
    {
      "cell_type": "code",
      "metadata": {
        "id": "wIK5t29TOFN4",
        "colab_type": "code",
        "outputId": "6178cde0-5898-4c7d-d604-ac52e2e5408e",
        "colab": {
          "base_uri": "https://localhost:8080/",
          "height": 265
        }
      },
      "source": [
        "import matplotlib.pyplot as plt\n",
        "plt.plot(sorted(test_per_1))\n",
        "plt.show()"
      ],
      "execution_count": 0,
      "outputs": [
        {
          "output_type": "display_data",
          "data": {
            "image/png": "[encoded data removed]",
            "text/plain": [
              "<Figure size 432x288 with 1 Axes>"
            ]
          },
          "metadata": {
            "tags": []
          }
        }
      ]
    },
    {
      "cell_type": "code",
      "metadata": {
        "id": "wO5vynBWoA0N",
        "colab_type": "code",
        "colab": {}
      },
      "source": [
        "## Considering 0.22 as the threshold perplexicity ##\n",
        "print(\"File Name, Perplexity\")\n",
        "[(j, round(i,4)) for (i,j) in zip(test_per_1, test_files) if i > 14]"
      ],
      "execution_count": 0,
      "outputs": []
    },
    {
      "cell_type": "markdown",
      "metadata": {
        "id": "zX4lQwYsI-BG",
        "colab_type": "text"
      },
      "source": [
        "***All of the Brazillian Portugese documents are correctly labelled as Portugese***\n",
        "\n",
        "File Name, Perplexity\n",
        "\n",
        "('br94ab02.txt', 17.9131)\n",
        "\n",
        "('br94ju01.txt', 17.9665)\n",
        "\n",
        "('ag94fe1.txt', 17.9754)\n",
        "\n",
        " ('br94de01.txt', 18.0272)\n",
        "\n",
        " ('br94jl01.txt', 18.1458)\n",
        "\n",
        " ('ag94ja11.txt', 18.1627)\n",
        "\n",
        " ('ag94se06.txt', 18.8318)\n",
        "\n",
        " ('ag94jl12.txt', 18.3951)\n",
        "\n",
        " ('br94ja04.txt', 18.3968)\n",
        "\n",
        " ('ag94ou04.txt', 18.4091)\n",
        " \n",
        " ('br94ag01.txt', 18.4155)\n",
        "\n",
        " ('ag94ag02.txt', 18.4268)\n",
        "\n",
        " ('br94ma01.txt', 18.4344)\n",
        "\n",
        " ('ag94no01.txt', 18.4821)\n",
        "\n",
        " ('br94fe1.txt', 18.5032)\n",
        "\n",
        " ('ag94mr1.txt', 18.6018)\n",
        "\n",
        " ('ag94de06.txt', 18.6209)\n",
        "\n",
        " ('ag94ab12.txt', 18.752)\n",
        "\n",
        " ('ag94ma03.txt', 18.8305)\n",
        " \n",
        " ('ag94ju07.txt', 18.8364)\n",
        "\n",
        " \n",
        " "
      ]
    },
    {
      "cell_type": "markdown",
      "metadata": {
        "id": "aQl2u_giVW5e",
        "colab_type": "text"
      },
      "source": [
        "## 1.3\n",
        "Build a trigram language model with add-λ smoothing (use λ = 0.1).\n",
        "\n",
        "Sort the test documents by perplexity and perform a check for Brazilian Portuguese documents as above:\n",
        "\n",
        "  - Observe the perplexity scores and set a cut-off threshold. All the documents above this threshold score should be categorized as Brazilian Portuguese. \n",
        "  - Print the file names and perplexities of the documents above the threshold\n",
        "\n",
        "  ```\n",
        "      file name, score\n",
        "      file name, score\n",
        "      . . .\n",
        "      file name, score\n",
        "  ```\n",
        "\n",
        "  - Copy this list of filenames and manually annotate them for correctness."
      ]
    },
    {
      "cell_type": "code",
      "metadata": {
        "id": "IGUTEk8QUehL",
        "colab_type": "code",
        "colab": {}
      },
      "source": [
        "test = []\n",
        "for book in test_new:\n",
        "  tmp = ''.join(book)\n",
        "  test.append(list(tmp)) #list of characters in each test documents\n",
        "\n",
        "for i in range(len(test)):\n",
        "  test[i] = ['UNK' if ch not in unigrams_c.keys() else ch for ch in test[i]]\n",
        "\n",
        "test_per_k = []\n",
        "for j, book in enumerate(test):\n",
        "  trigrams_gen_test = trigrams(book)\n",
        "  tmp = []\n",
        "  for i, tri in enumerate(trigrams_gen_test): \n",
        "    prob = (trigrams_c.get(tri,0.1))/((0.1*unigrams_len)+bigrams_c.get(tri[:2],0))   ## consider count first then add k=0.1 divide by kV+count of bigrams\n",
        "    tmp.append(math.log(prob)) \n",
        "    #print(j,i)\n",
        "  test_per_k.append(math.exp(-(sum(tmp)/len(tmp)))) #each test documents perplexicity"
      ],
      "execution_count": 0,
      "outputs": []
    },
    {
      "cell_type": "code",
      "metadata": {
        "id": "QZd_NwEcZLnL",
        "colab_type": "code",
        "outputId": "d239cf7f-1748-42ab-dfcc-d69c11a49e8e",
        "colab": {
          "base_uri": "https://localhost:8080/",
          "height": 265
        }
      },
      "source": [
        "import matplotlib.pyplot as plt\n",
        "plt.plot(test_per_k)\n",
        "plt.show()"
      ],
      "execution_count": 0,
      "outputs": [
        {
          "output_type": "display_data",
          "data": {
            "image/png": "[encoded data removed]",
            "text/plain": [
              "<Figure size 432x288 with 1 Axes>"
            ]
          },
          "metadata": {
            "tags": []
          }
        }
      ]
    },
    {
      "cell_type": "code",
      "metadata": {
        "id": "RHKe0pGHhk1w",
        "colab_type": "code",
        "outputId": "3d513cd7-1d7a-4a35-edac-63407a6d64f5",
        "colab": {
          "base_uri": "https://localhost:8080/",
          "height": 265
        }
      },
      "source": [
        "import matplotlib.pyplot as plt\n",
        "plt.plot(sorted(test_per_k))\n",
        "plt.show()"
      ],
      "execution_count": 0,
      "outputs": [
        {
          "output_type": "display_data",
          "data": {
            "image/png": "[encoded data removed]",
            "text/plain": [
              "<Figure size 432x288 with 1 Axes>"
            ]
          },
          "metadata": {
            "tags": []
          }
        }
      ]
    },
    {
      "cell_type": "code",
      "metadata": {
        "id": "GO6nw69PehwW",
        "colab_type": "code",
        "colab": {}
      },
      "source": [
        "## Considering 0.82 as the threshold perplexicity ##\n",
        "print(\"File Name, Perplexity\")\n",
        "[(j, round(i,4)) for (i,j) in zip(test_per_k, test_files) if i > 15]\n"
      ],
      "execution_count": 0,
      "outputs": []
    },
    {
      "cell_type": "markdown",
      "metadata": {
        "id": "vNIGyzKlgd1X",
        "colab_type": "text"
      },
      "source": [
        "***All of these are correctly labelled as Portugese***\n",
        " and remaining documents as English\n",
        " \n",
        "File Name, Perplexity\n",
        "\n",
        "('ag94ju07.txt', 31.1609)\n",
        "\n",
        " ('ag94ja11.txt', 30.0521)\n",
        "\n",
        " ('ag94ag02.txt', 30.7164)\n",
        "\n",
        " ('ag94fe1.txt', 29.4857)\n",
        "\n",
        " ('br94fe1.txt', 29.9807)\n",
        "\n",
        " ('br94ma01.txt', 31.2137)\n",
        "\n",
        " ('br94ju01.txt', 29.7914)\n",
        "\n",
        " ('ag94ma03.txt', 31.5594)\n",
        "\n",
        " ('ag94ab12.txt', 30.425)\n",
        "\n",
        " ('br94ag01.txt', 31.1495)\n",
        "\n",
        " ('br94jl01.txt', 29.5516)\n",
        "\n",
        " ('ag94jl12.txt', 30.6051)\n",
        "\n",
        " ('br94ja04.txt', 29.8007)\n",
        "\n",
        " ('ag94de06.txt', 30.7716)\n",
        "\n",
        " ('ag94mr1.txt', 31.0247)\n",
        "\n",
        " ('br94de01.txt', 29.3489)\n",
        "\n",
        " ('br94ab02.txt', 29.273)\n",
        "\n",
        " ('ag94ou04.txt', 30.0676)\n",
        "\n",
        " ('ag94se06.txt', 31.5367)\n",
        "\n",
        " ('ag94no01.txt', 30.2948)"
      ]
    },
    {
      "cell_type": "markdown",
      "metadata": {
        "id": "bqhXTB5TXR25",
        "colab_type": "text"
      },
      "source": [
        "## 1.4\n",
        "Based on your observation from above questions, compare linear interpolation and add-λ smoothing by listing out their pros and cons."
      ]
    },
    {
      "cell_type": "markdown",
      "metadata": {
        "id": "tFq1ECgDI6QG",
        "colab_type": "text"
      },
      "source": [
        "Add-k smoothing computed perplexity scores are high compared to linear interpolation. Hence they might not be suitable for advanced language modeling tasks however gives similar result as linear interpolation for classification tasks. \n",
        "\n",
        "Linear interpolation seperation boundary between classes (using perplexity) is narrow compared to add-k smoothing. {portugese documents have perplexity near 17 & 18 in linear interpolation whereas in add-k smoothing they have more perplexity score ~30)\n",
        "\n",
        "Linear Interpolation requires additional computational resources for calculating and storing unigram, bigram and trigram probabilities. Whereas for add-k smoothing we need just the counts dictionary and directly calculate only trigram probabilities.\n",
        "\n",
        "\n",
        "Both methods requires hyperparamters, lambda,  (estimation) on held out data .\n",
        "\n"
      ]
    },
    {
      "cell_type": "markdown",
      "metadata": {
        "id": "PCyf9lRZas_0",
        "colab_type": "text"
      },
      "source": [
        "--------END--------"
      ]
    },
    {
      "cell_type": "code",
      "metadata": {
        "id": "ZnRGSXpmgJGn",
        "colab_type": "code",
        "outputId": "48f3e14e-ab02-4328-dd39-4a6a4e8c5c2e",
        "colab": {
          "base_uri": "https://localhost:8080/",
          "height": 35
        }
      },
      "source": [
        "#Practice\n",
        "import string\n",
        "import re\n",
        "test = ['I', 'and', 'can', \"'\", 't', '!', 'A', 'yes', 'a']\n",
        "tmp=[]\n",
        "for word in test:\n",
        "  if word == 'a' or word == 'A': # single 'a' as elemnt means it is article, so space is included \n",
        "        tmp.extend([' ',word])\n",
        "  elif word in string.punctuation:\n",
        "    tmp.extend(word)\n",
        "  elif re.match('\\b[a-zA-Z0-9]\\b', word):\n",
        "    tmp.extend(word)\n",
        "  else:\n",
        "    tmp.extend([' ',word])\n",
        "  \n",
        "print(tmp)"
      ],
      "execution_count": 0,
      "outputs": [
        {
          "output_type": "stream",
          "text": [
            "[' ', 'I', ' ', 'and', ' ', 'can', \"'\", ' ', 't', '!', ' ', 'A', ' ', 'yes', ' ', 'a']\n"
          ],
          "name": "stdout"
        }
      ]
    },
    {
      "cell_type": "code",
      "metadata": {
        "id": "aGAhSdC6avU1",
        "colab_type": "code",
        "outputId": "899a9ac3-89f5-43f2-c4dc-2b342df97235",
        "colab": {
          "base_uri": "https://localhost:8080/",
          "height": 55
        }
      },
      "source": [
        "## Practice ##\n",
        "test = ['a','n','d',' ','s','h','e',' ','a','c','h','i','e','v','e','d',' ','a','n','d',' ']\n",
        "vocab = set(test) #unordered\n",
        "ch_to_ix = {ch:i for i,ch in enumerate(vocab)} #ordered alphabetically but index as in vocab set order\n",
        "\n",
        "trigrams = [([test[i],test[i+1]],test[i+2]) for i in range(len(test)-2)]\n",
        "print(trigrams)"
      ],
      "execution_count": 0,
      "outputs": [
        {
          "output_type": "stream",
          "text": [
            "[(['a', 'n'], 'd'), (['n', 'd'], ' '), (['d', ' '], 's'), ([' ', 's'], 'h'), (['s', 'h'], 'e'), (['h', 'e'], ' '), (['e', ' '], 'a'), ([' ', 'a'], 'c'), (['a', 'c'], 'h'), (['c', 'h'], 'i'), (['h', 'i'], 'e'), (['i', 'e'], 'v'), (['e', 'v'], 'e'), (['v', 'e'], 'd'), (['e', 'd'], ' '), (['d', ' '], 'a'), ([' ', 'a'], 'n'), (['a', 'n'], 'd'), (['n', 'd'], ' ')]\n"
          ],
          "name": "stdout"
        }
      ]
    },
    {
      "cell_type": "code",
      "metadata": {
        "id": "VcMqaXzlblzu",
        "colab_type": "code",
        "colab": {}
      },
      "source": [
        "## Practice ##\n",
        "import nltk\n",
        "#from nltk import word_tokenize\n",
        "#nltk.download('punkt')\n",
        "from nltk import bigrams, trigrams\n",
        "from nltk.collections import Counter\n",
        "\n",
        "unigrams = list(\"And she achived! and\")\n",
        "#big = bigrams(unigrams)\n",
        "#c=Counter(big)\n",
        "big = bigrams(test)\n",
        "c=Counter(big)\n",
        "Counter(unigrams)\n"
      ],
      "execution_count": 0,
      "outputs": []
    },
    {
      "cell_type": "code",
      "metadata": {
        "id": "S3PFLzisddB_",
        "colab_type": "code",
        "colab": {}
      },
      "source": [
        "for bigrams in c:\n",
        "  print(bigrams, c[bigrams])"
      ],
      "execution_count": 0,
      "outputs": []
    },
    {
      "cell_type": "code",
      "metadata": {
        "id": "tIPcs7K6oGYZ",
        "colab_type": "code",
        "colab": {}
      },
      "source": [
        "#Practice\n",
        "test = [['and',' ', 'she',' ', 'did'], ['yes', 'rock']]\n",
        "X_train_new = []\n",
        "for book in test:\n",
        "  tmp = ''.join(book)\n",
        "  X_train_new.extend([tmp])\n",
        "\n",
        "#t = ['yes',' ', 'rock']\n",
        "#x = ''.join(t)\n",
        "X_train_new = ' '.join(X_train_new)\n",
        "list(X_train_new)\n"
      ],
      "execution_count": 0,
      "outputs": []
    },
    {
      "cell_type": "code",
      "metadata": {
        "id": "pO6qFmSWer-2",
        "colab_type": "code",
        "colab": {}
      },
      "source": [
        "''' #UNK for bigrams with count less than 3\n",
        "bigrams_c[('UNK', 'UNK')] = 0 #key for UNK\n",
        "for big, count in bigrams_c.items():\n",
        "  if count <= 3:\n",
        "    del bigrams_c[big]\n",
        "    bigrams_c[('UNK', 'UNK')] +=1\n",
        "\n",
        "trigrams_c[('UNK', 'UNK', 'UNK')] = 0 #key for UNK\n",
        "for tri, count in trigrams_c.items():\n",
        "  if count <= 3:\n",
        "    del trigrams_c[tri]\n",
        "    trigrams_c[('UNK', 'UNK', 'UNK')] +=1\n",
        "'''"
      ],
      "execution_count": 0,
      "outputs": []
    }
  ]
}