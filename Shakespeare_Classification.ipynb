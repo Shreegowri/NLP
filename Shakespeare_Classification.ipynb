{
  "nbformat": 4,
  "nbformat_minor": 0,
  "metadata": {
    "colab": {
      "name": "Shakespeare_Classification.ipynb",
      "provenance": [],
      "collapsed_sections": []
    },
    "kernelspec": {
      "name": "python3",
      "display_name": "Python 3"
    }
  },
  "cells": [
    {
      "cell_type": "markdown",
      "metadata": {
        "id": "ghmXbcymaHxC",
        "colab_type": "text"
      },
      "source": [
        "In this experiment, you will train models to distringuish examples of two different genres of Shakespeare's plays: comedies and tragedies. (We'll ignore the histories, sonnets, etc.) Since he died four hundred years ago, Shakespeare has not written any more plays—although scraps of various other works have come to light. We are not, therefore, interested in building models simply to help categorize an unbounded stream of future documents, as we might be in other applications of text classification; rather, we are interested in what a classifier might have to tell us about what we mean by the terms “comedy” and “tragedy”.\n",
        "\n",
        "You will start by copying and running your `createBasicFeatures` function from the experiment with movie reviews. Do the features the classifier focuses on tell you much about comedy and tragedy in general?\n",
        "\n",
        "You will then implement another featurization function `createInterestingFeatures`, which will focus on only those features you think are informative for distinguishing between comedy and tragedy. Accuracy on leave-one-out cross-validation may go up, but it more important to look at the features given the highest weight by the classifier. Interpretability in machine learning, of course, may be harder to define than accuracy—although accuracy at some tasks such as summarization is hard enoough."
      ]
    },
    {
      "cell_type": "markdown",
      "metadata": {
        "id": "Kn0SwvetpLxS",
        "colab_type": "text"
      },
      "source": [
        "# **Observartions**\n",
        "\n",
        "*Top features which corresponds to tragedy (pos) class are mostly character names where as top features of comedy (neg) class contains common nouns (relating to place, role of person like magic, ghost, witch).*\n",
        "*Achieved accuracy of 96%*\n",
        "\n",
        "\n",
        "1. TF-IDF representation did not work well than word count representation \n",
        "2. Bi-grams did not perform as good as uni-grams for this corpus\n",
        "3. Here adjective parts of speech works better than noun and verb while lemmatizing\n",
        "4. Allowing words which are present at most on 60% of the document gives better accuracy than max-df = 0.7 or 0.5\n",
        "5. Since L1 leads most of the weights to 0, we see the words after some top 15 features are part of both the classes, hence we should not consider these features (after top 15) when using L1 model"
      ]
    },
    {
      "cell_type": "code",
      "metadata": {
        "id": "AdVS67_HNRmW",
        "colab_type": "code",
        "colab": {}
      },
      "source": [
        "import json\n",
        "import requests\n",
        "from sklearn.linear_model import LogisticRegression\n",
        "from sklearn.model_selection import cross_validate,LeaveOneOut\n",
        "import numpy as np"
      ],
      "execution_count": 0,
      "outputs": []
    },
    {
      "cell_type": "code",
      "metadata": {
        "id": "PzjMY8fYQbB6",
        "colab_type": "code",
        "colab": {}
      },
      "source": [
        "#read in the shakespeare corpus\n",
        "def readShakespeare():\n",
        "  raw = requests.get(\"https://raw.githubusercontent.com/mutherr/CS6120-PS1-data/master/shakespeare_plays.json\").text.strip()\n",
        "  corpus = [json.loads(line) for line in raw.split(\"\\n\")]\n",
        "\n",
        "  #remove histories from the data, as we're only working with tragedies and comedies\n",
        "  corpus = [entry for entry in corpus if entry[\"genre\"] != \"history\"]\n",
        "  return corpus"
      ],
      "execution_count": 0,
      "outputs": []
    },
    {
      "cell_type": "code",
      "metadata": {
        "id": "IKglXhEevgWW",
        "colab_type": "code",
        "outputId": "29266ff5-2f5a-4a91-fc81-4279d7884e96",
        "colab": {
          "base_uri": "https://localhost:8080/",
          "height": 124
        }
      },
      "source": [
        "import re\n",
        "from sklearn.feature_extraction.text import CountVectorizer\n",
        "from sklearn.feature_extraction.text import TfidfVectorizer\n",
        "import nltk\n",
        "from nltk.stem import WordNetLemmatizer\n",
        "from nltk.corpus import stopwords\n",
        "nltk.download('stopwords')\n",
        "nltk.download('wordnet')\n",
        "nltk.download('punkt')\n",
        "snow = nltk.stem.SnowballStemmer('english')"
      ],
      "execution_count": 0,
      "outputs": [
        {
          "output_type": "stream",
          "text": [
            "[nltk_data] Downloading package stopwords to /root/nltk_data...\n",
            "[nltk_data]   Package stopwords is already up-to-date!\n",
            "[nltk_data] Downloading package wordnet to /root/nltk_data...\n",
            "[nltk_data]   Package wordnet is already up-to-date!\n",
            "[nltk_data] Downloading package punkt to /root/nltk_data...\n",
            "[nltk_data]   Package punkt is already up-to-date!\n"
          ],
          "name": "stdout"
        }
      ]
    },
    {
      "cell_type": "markdown",
      "metadata": {
        "id": "v0r3oL3TdHIU",
        "colab_type": "text"
      },
      "source": [
        "This is where you will implement two functions to featurize the data:"
      ]
    },
    {
      "cell_type": "code",
      "metadata": {
        "id": "039fPQcF7OkN",
        "colab_type": "code",
        "colab": {}
      },
      "source": [
        "#NB: The current contents are for testing only\n",
        "#This function should return: \n",
        "#  -a sparse numpy matrix of document features\n",
        "#  -a list of the correct genre for each document\n",
        "#  -a list of the vocabulary used by the features, such that the ith term of the\n",
        "#    list is the word whose counts appear in the ith column of the matrix. \n",
        "\n",
        "# This function should create a feature representation using all tokens that\n",
        "# contain an alphabetic character.\n",
        "def createBasicFeatures(corpus):\n",
        "  genres = [play['genre'] for play in corpus]\n",
        "  X = [play['text'] for play in corpus]\n",
        "  \n",
        "\n",
        "  docs = []\n",
        "  for play in range(0, len(X)):\n",
        "    doc = re.sub(r'[\\W_]', ' ', str(X[play]))\n",
        "    doc = re.sub(r'\\s+', ' ', doc, flags=re.I)\n",
        "    doc = re.sub(r'[0-9]*', '', doc)\n",
        "    doc = re.sub(r'^b\\s+', '', doc)\n",
        "    doc = doc.lower()\n",
        "    docs.append(doc)\n",
        "    \n",
        "  vectorizer = CountVectorizer()\n",
        "  texts = vectorizer.fit_transform(docs).toarray()\n",
        "  vocab = vectorizer.vocabulary_  \n",
        "  vocab = sorted(vocab.items(), key= lambda x : x[1])\n",
        "  vocab = [v[0] for v in vocab]\n",
        "  \n",
        "  return texts,genres,vocab\n",
        "\n",
        "# This function can add other features you want that help classification\n",
        "# accuracy, such as bigrams, word prefixes and suffixes, etc.\n",
        "def createInterestingFeatures(corpus):\n",
        "  genres = [play['genre'] for play in corpus]\n",
        "  X = [play['text'] for play in corpus]\n",
        "  stopw = stopwords.words('english')\n",
        "  lemmatizer = WordNetLemmatizer()\n",
        "\n",
        "  docs = []\n",
        "  for play in range(0, len(X)):\n",
        "    doc = re.sub(r'[\\W_]', ' ', str(X[play]))\n",
        "    doc = re.sub(r'\\s+', ' ', doc, flags=re.I)\n",
        "    doc = re.sub(r'[0-9]*', '', doc)\n",
        "    doc = re.sub(r'^b\\s+', '', doc)\n",
        "    doc = doc.lower()\n",
        "    doc = doc.split()\n",
        "    #doc = [lemmatizer.lemmatize(word, pos = 'v') for word in doc]\n",
        "    doc = [lemmatizer.lemmatize(word, pos = 'a') for word in doc] #adjectives performs better in lemmatize\n",
        "    #doc = [lemmatizer.lemmatize(word) for word in doc]\n",
        "    #doc = [snow.stem(word) for word in doc]\n",
        "    doc = ' '.join(doc)\n",
        "    docs.append(doc)\n",
        "    \n",
        "  vectorizer = CountVectorizer(stop_words=stopw,  max_df=0.6, min_df=3) #consider words that are atleast present 3 times in corpus and atmost presnt in 60% of the plays\n",
        "  #vectorizer = TfidfVectorizer(stop_words=stopw, max_df=0.6, min_df=3)\n",
        "  #vectorizer = CountVectorizer(stop_words=stopw, ngram_range= (2,2),  max_df=0.6, min_df=3)\n",
        "  texts = vectorizer.fit_transform(docs).toarray()\n",
        "  vocab = vectorizer.vocabulary_  \n",
        "  vocab = sorted(vocab.items(), key= lambda x : x[1])\n",
        "  vocab = [v[0] for v in vocab] \n",
        "\n",
        "  return texts,genres,vocab"
      ],
      "execution_count": 0,
      "outputs": []
    },
    {
      "cell_type": "code",
      "metadata": {
        "id": "KfTBqBltXe7Y",
        "colab_type": "code",
        "colab": {}
      },
      "source": [
        "#given a numpy matrix representation of the features for the training set, the \n",
        "# vector of true classes for each example, and the vocabulary as described \n",
        "# above, this computes the accuracy of the model using leave one out cross \n",
        "# validation and reports the most indicative features for each class\n",
        "def evaluateModel(X,y,vocab,penalty=\"l1\"):\n",
        "  #create and fit the model\n",
        "  model = LogisticRegression(penalty=penalty,solver=\"liblinear\")\n",
        "  results = cross_validate(model,X,y,cv=LeaveOneOut())\n",
        "  \n",
        "  #determine the average accuracy\n",
        "  scores = results[\"test_score\"]\n",
        "  avg_score = sum(scores)/len(scores)\n",
        "  \n",
        "  #determine the most informative features\n",
        "  # this requires us to fit the model to everything, because we need a\n",
        "  # single model to draw coefficients from, rather than 26\n",
        "  model.fit(X,y)\n",
        "  neg_class_prob_sorted = model.coef_[0, :].argsort()\n",
        "  pos_class_prob_sorted = (-model.coef_[0, :]).argsort()\n",
        "\n",
        "  termsToTake = 20\n",
        "  pos_indicators = [vocab[i] for i in neg_class_prob_sorted[:termsToTake]]\n",
        "  neg_indicators = [vocab[i] for i in pos_class_prob_sorted[:termsToTake]]\n",
        "\n",
        "  return avg_score,pos_indicators,neg_indicators\n",
        "\n",
        "def runEvaluation(X,y,vocab):\n",
        "  print(\"----------L1 Norm-----------\")\n",
        "  avg_score,pos_indicators,neg_indicators = evaluateModel(X,y,vocab,\"l1\")\n",
        "  print(\"The model's average accuracy is %f\"%avg_score)\n",
        "  print(\"The most informative terms for pos are: %s\"%pos_indicators)\n",
        "  print(\"The most informative terms for neg are: %s\"%neg_indicators)\n",
        "  #this call will fit a model with L2 normalization\n",
        "  print(\"----------L2 Norm-----------\")\n",
        "  avg_score,pos_indicators,neg_indicators = evaluateModel(X,y,vocab,\"l2\")\n",
        "  print(\"The model's average accuracy is %f\"%avg_score)\n",
        "  print(\"The most informative terms for pos are: %s\"%pos_indicators)\n",
        "  print(\"The most informative terms for neg are: %s\"%neg_indicators)\n",
        "  "
      ],
      "execution_count": 0,
      "outputs": []
    },
    {
      "cell_type": "code",
      "metadata": {
        "id": "mtlbg_aqdcW_",
        "colab_type": "code",
        "colab": {}
      },
      "source": [
        "corpus = readShakespeare()\n",
        "#corpus[1:5]"
      ],
      "execution_count": 0,
      "outputs": []
    },
    {
      "cell_type": "markdown",
      "metadata": {
        "id": "vpCqIhiqdhen",
        "colab_type": "text"
      },
      "source": [
        "Run the following to train and evaluate two models with basic features:"
      ]
    },
    {
      "cell_type": "code",
      "metadata": {
        "id": "4IpJ7PKjvc8I",
        "colab_type": "code",
        "outputId": "d9d8527e-014f-4ee1-95f2-f2ab0b7b8fef",
        "colab": {
          "base_uri": "https://localhost:8080/",
          "height": 197
        }
      },
      "source": [
        "X,y,vocab = createBasicFeatures(corpus)\n",
        "runEvaluation(X, y, vocab)\n",
        "print(\"size of vocabulary: {}\".format(len(vocab)))"
      ],
      "execution_count": 0,
      "outputs": [
        {
          "output_type": "stream",
          "text": [
            "----------L1 Norm-----------\n",
            "The model's average accuracy is 0.769231\n",
            "The most informative terms for pos are: ['helena', 'prospero', 'sir', 'you', 'your', 'for', 'me', 'duke', 'of', 'love', 'preservation', 'presents', 'press', 'preserve', 'preserved', 'preserver', 'presentment', 'preservers', 'preserving', 'presently']\n",
            "The most informative terms for neg are: ['our', 'him', 'rom', 'iago', 'thy', 'ham', 'imogen', 'what', 'brutus', 'his', 'lear', 'timon', 'premises', 'pressing', 'presses', 'pressed', 'press', 'president', 'preservers', 'preserver']\n",
            "----------L2 Norm-----------\n",
            "The model's average accuracy is 0.730769\n",
            "The most informative terms for pos are: ['you', 'prospero', 'duke', 'helena', 'antonio', 'me', 'for', 'your', 'sir', 'ariel', 'sebastian', 'hermia', 'lysander', 'parolles', 'stephano', 'will', 'leontes', 'caliban', 'demetrius', 'love']\n",
            "The most informative terms for neg are: ['ham', 'iago', 'him', 'our', 'othello', 'what', 'his', 'lear', 'imogen', 'brutus', 'rom', 'nurse', 'romeo', 'caesar', 'thy', 'cassio', 'to', 'timon', 'posthumus', 'desdemona']\n",
            "size of vocabulary: 19791\n"
          ],
          "name": "stdout"
        }
      ]
    },
    {
      "cell_type": "markdown",
      "metadata": {
        "id": "fY4MKaIVy8bP",
        "colab_type": "text"
      },
      "source": [
        "From top 20 features we see there are lot of same words with different grammar tense (words with same semantic). Also we see many stopwords such as what, his, thy, him, our, to, of, me, you, your. Hence will remove stop words (this time will use explicit stopwords list, as negation/not words does not add predictive powers to genre classification) and perform lemmatization."
      ]
    },
    {
      "cell_type": "markdown",
      "metadata": {
        "id": "_FmW9F6ZdoyM",
        "colab_type": "text"
      },
      "source": [
        "Run the following to train and evaluate two models with features that are interesting for distinguishing comedy and tragedy:"
      ]
    },
    {
      "cell_type": "code",
      "metadata": {
        "id": "BW0Ajs2MdtIC",
        "colab_type": "code",
        "outputId": "99964eb4-6e3d-4851-9e3c-958ec41b4480",
        "colab": {
          "base_uri": "https://localhost:8080/",
          "height": 197
        }
      },
      "source": [
        "X,y,vocab = createInterestingFeatures(corpus)\n",
        "runEvaluation(X, y, vocab)\n",
        "print(\"size of vocabulary: {}\".format(len(vocab)))"
      ],
      "execution_count": 0,
      "outputs": [
        {
          "output_type": "stream",
          "text": [
            "----------L1 Norm-----------\n",
            "The model's average accuracy is 0.884615\n",
            "The most informative terms for pos are: ['antonio', 'shepherd', 'kate', 'chain', 'helena', 'angelo', 'princess', 'jaques', 'hero', 'page', 'valentine', 'demetrius', 'maria', 'signior', 'clown', 'prescribe', 'prescience', 'presage', 'pricking', 'prerogative']\n",
            "The most informative terms for neg are: ['murther', 'lucius', 'castle', 'corn', 'senator', 'rome', 'nurse', 'troilus', 'caesar', 'moor', 'preparation', 'prepar', 'pregnant', 'prefix', 'preferr', 'prefer', 'prepared', 'predominant', 'precisely', 'precise']\n",
            "----------L2 Norm-----------\n",
            "The model's average accuracy is 0.961538\n",
            "The most informative terms for pos are: ['antonio', 'shepherd', 'helena', 'angelo', 'chain', 'clown', 'jaques', 'demetrius', 'kate', 'valentine', 'signior', 'sebastian', 'hero', 'princess', 'merchant', 'claudio', 'page', 'padua', 'costard', 'jew']\n",
            "The most informative terms for neg are: ['lucius', 'murther', 'ghost', 'castle', 'moor', 'nurse', 'senator', 'corn', 'witch', 'britain', 'murtherer', 'rome', 'england', 'flavius', 'roman', 'slain', 'tonight', 'handkerchief', 'lieutenant', 'players']\n",
            "size of vocabulary: 6332\n"
          ],
          "name": "stdout"
        }
      ]
    },
    {
      "cell_type": "code",
      "metadata": {
        "id": "cMBxVGbOUWGn",
        "colab_type": "code",
        "outputId": "c7a5586d-38b7-4e99-ba54-93d0c3ee99ac",
        "colab": {
          "base_uri": "https://localhost:8080/",
          "height": 197
        }
      },
      "source": [
        "X,y,vocab = createInterestingFeatures(corpus)\n",
        "runEvaluation(X, y, vocab)\n",
        "print(\"size of vocabulary: {}\".format(len(vocab)))"
      ],
      "execution_count": 0,
      "outputs": [
        {
          "output_type": "stream",
          "text": [
            "----------L1 Norm-----------\n",
            "The model's average accuracy is 0.538462\n",
            "The most informative terms for pos are: ['abandon', 'porch', 'porpentin', 'porridg', 'port', 'portabl', 'portend', 'portent', 'porter', 'portion', 'posi', 'posit', 'posset', 'poster', 'postern', 'poorest', 'postur', 'potenc', 'potent', 'potion']\n",
            "The most informative terms for neg are: ['abandon', 'porch', 'porpentin', 'porridg', 'port', 'portabl', 'portend', 'portent', 'porter', 'portion', 'posi', 'posit', 'posset', 'poster', 'postern', 'poorest', 'postur', 'potenc', 'potent', 'potion']\n",
            "----------L2 Norm-----------\n",
            "The model's average accuracy is 0.769231\n",
            "The most informative terms for pos are: ['antonio', 'helena', 'angelo', 'valentin', 'sebastian', 'page', 'clown', 'claudio', 'maria', 'shepherd', 'jaqu', 'hero', 'kate', 'costard', 'princess', 'demetrius', 'jew', 'john', 'moth', 'oliv']\n",
            "The most informative terms for neg are: ['lucius', 'brutus', 'murther', 'senat', 'antoni', 'caesar', 'rome', 'titus', 'moor', 'nurs', 'edg', 'troilus', 'pandarus', 'cleopatra', 'britain', 'roman', 'castl', 'corn', 'flavius', 'honor']\n",
            "size of vocabulary: 4357\n"
          ],
          "name": "stdout"
        }
      ]
    },
    {
      "cell_type": "markdown",
      "metadata": {
        "id": "AlIi2OiGUYD8",
        "colab_type": "text"
      },
      "source": [
        "Above iteration using TF-IDF, does not perform well compared to word-count representation "
      ]
    },
    {
      "cell_type": "markdown",
      "metadata": {
        "id": "xOw6uMtSVci7",
        "colab_type": "text"
      },
      "source": [
        "Bigrams did not perform as good as unigrams. Mixture of unigram and bigram gives same performance as stand alone unigram model."
      ]
    }
  ]
}